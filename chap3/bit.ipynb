{
 "cells": [
  {
   "cell_type": "markdown",
   "metadata": {},
   "source": [
    "bitで全探索"
   ]
  },
  {
   "cell_type": "markdown",
   "metadata": {},
   "source": [
    "例題１"
   ]
  },
  {
   "cell_type": "code",
   "execution_count": 10,
   "metadata": {},
   "outputs": [
    {
     "name": "stdout",
     "output_type": "stream",
     "text": [
      "[]\n",
      "[0]\n",
      "[1]\n",
      "[0, 1]\n",
      "[2]\n"
     ]
    }
   ],
   "source": [
    "money = 300\n",
    "item = [100,200,300]\n",
    "for i in range(2 ** len(item)):\n",
    "    bag = []\n",
    "    cost = 0\n",
    "    for j in range(len(item)):\n",
    "        if (i >> j) & 1:\n",
    "            cost += item[j]\n",
    "            bag.append(j)\n",
    "    if cost<=money:\n",
    "        print(bag)"
   ]
  },
  {
   "cell_type": "code",
   "execution_count": null,
   "metadata": {},
   "outputs": [],
   "source": []
  }
 ],
 "metadata": {
  "kernelspec": {
   "display_name": "Python 3",
   "language": "python",
   "name": "python3"
  },
  "language_info": {
   "codemirror_mode": {
    "name": "ipython",
    "version": 3
   },
   "file_extension": ".py",
   "mimetype": "text/x-python",
   "name": "python",
   "nbconvert_exporter": "python",
   "pygments_lexer": "ipython3",
   "version": "3.7.6"
  }
 },
 "nbformat": 4,
 "nbformat_minor": 4
}
